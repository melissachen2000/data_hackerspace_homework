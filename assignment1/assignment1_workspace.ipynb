{
 "cells": [
  {
   "cell_type": "code",
   "execution_count": 3,
   "metadata": {},
   "outputs": [],
   "source": [
    "#\n",
    "# CS 196 Data Hackerspace\n",
    "# Assignment 1: Data Parsing and NumPy\n",
    "# Due September 24th, 2018\n",
    "#"
   ]
  },
  {
   "cell_type": "code",
   "execution_count": 4,
   "metadata": {},
   "outputs": [],
   "source": [
    "import json\n",
    "import csv\n",
    "import numpy as np\n",
    "import math"
   ]
  },
  {
   "cell_type": "code",
   "execution_count": 5,
   "metadata": {},
   "outputs": [],
   "source": [
    "def histogram_times(filename):\n",
    "    crashes_per_hour = [0,0,0,0,0,0,0,0,0,0,0,0,0,0,0,0,0,0,0,0,0,0,0,0,0]\n",
    "    with open(filename) as data:\n",
    "        csv_reader = csv.reader(data)\n",
    "        data_list = list(csv_reader)\n",
    "        for crash in data_list[1:]:\n",
    "            if crash[1]:\n",
    "                time = crash[1]\n",
    "                hour = \"\"\n",
    "                \n",
    "                for letter in time:\n",
    "                    if letter in \"0123456789\":\n",
    "                        hour += letter\n",
    "                        \n",
    "                hour = hour.zfill(4)\n",
    "                hour = hour[:2]\n",
    "                \n",
    "                crashes_per_hour[int(hour)] += 1\n",
    "                \n",
    "    return crashes_per_hour"
   ]
  },
  {
   "cell_type": "code",
   "execution_count": 6,
   "metadata": {},
   "outputs": [],
   "source": [
    "def weigh_pokemons(filename, weight):\n",
    "    pokemons = []\n",
    "    with open(filename) as data:\n",
    "        pokedex_json = json.load(data)\n",
    "        all_pokemon = pokedex_json[\"pokemon\"]\n",
    "        \n",
    "        for index in range(len(all_pokemon)):\n",
    "            if all_pokemon[index][\"weight\"] == (str(weight) + \" kg\"):\n",
    "                pokemons.append(all_pokemon[index][\"name\"])\n",
    "    return pokemons"
   ]
  },
  {
   "cell_type": "code",
   "execution_count": 7,
   "metadata": {},
   "outputs": [],
   "source": [
    "def single_type_candy_count(filename):\n",
    "    total = 0\n",
    "    with open(filename) as data:\n",
    "        pokedex_json = json.load(data)\n",
    "        all_pokemon = pokedex_json[\"pokemon\"]\n",
    "        \n",
    "        for index in range(len(all_pokemon)):\n",
    "            if (len(all_pokemon[index][\"type\"]) == 1):\n",
    "                try: total += all_pokemon[index][\"candy_count\"]\n",
    "                except (KeyError): pass\n",
    "\n",
    "    return total"
   ]
  },
  {
   "cell_type": "code",
   "execution_count": 8,
   "metadata": {},
   "outputs": [],
   "source": [
    "def reflections_and_projections(points):\n",
    "    #reflects the points over the line y = 1\n",
    "    points[1] *= -1\n",
    "    points[1] += 2\n",
    "    \n",
    "    #rotates the points Pi/2 radians about the origin\n",
    "    rotation = np.array([ [math.cos(math.pi/2), -1 * math.sin(math.pi/2)],\n",
    "                        [math.sin(math.pi/2), math.cos(math.pi/2)] ])\n",
    "    points = np.dot(rotation,points)\n",
    "    \n",
    "    #projects the point onto the line y = 3x\n",
    "    m = 3\n",
    "    scalar = (m^2 + 1) ^ (-1)\n",
    "    matrix = np.array( [ [1, m],\n",
    "                        [m, m^2] ])\n",
    "    points = np.dot(matrix,points)\n",
    "    points *= scalar\n",
    "    \n",
    "    return points"
   ]
  },
  {
   "cell_type": "code",
   "execution_count": 23,
   "metadata": {},
   "outputs": [],
   "source": [
    "def normalize(image):\n",
    "    working = np.copy(image)\n",
    "    working = working.astype(float)\n",
    "    working -= image.min()\n",
    "    working *= float(255 / (image.max() - image.min()))\n",
    "    return working.asType(int)"
   ]
  },
  {
   "cell_type": "code",
   "execution_count": null,
   "metadata": {},
   "outputs": [],
   "source": [
    "def sigmoid_normalize(image):\n",
    "    pass"
   ]
  }
 ],
 "metadata": {
  "kernelspec": {
   "display_name": "Python 3",
   "language": "python",
   "name": "python3"
  },
  "language_info": {
   "codemirror_mode": {
    "name": "ipython",
    "version": 3
   },
   "file_extension": ".py",
   "mimetype": "text/x-python",
   "name": "python",
   "nbconvert_exporter": "python",
   "pygments_lexer": "ipython3",
   "version": "3.6.6"
  }
 },
 "nbformat": 4,
 "nbformat_minor": 2
}
